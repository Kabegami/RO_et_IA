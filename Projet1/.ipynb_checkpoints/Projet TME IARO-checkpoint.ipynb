{
 "cells": [
  {
   "cell_type": "markdown",
   "metadata": {},
   "source": [
    "# Sujet de TME - Projet\n",
    "\n",
    "\n",
    "\n"
   ]
  },
  {
   "cell_type": "markdown",
   "metadata": {
    "collapsed": true
   },
   "source": [
    "## Environnement \n",
    "\n",
    "Vous utiliserez le module <code>PySpriteWorld</code> qui élabore <code>pygame</code> et permet de manipuler simplement des personnages, cartes, et autres objets à l'écran. \n",
    "Ce module a été développé par Yann Chevaleyre. Une version plus complète se trouve ici: <a>https://github.com/yannche/pySpriteWorld</a>, mais la version disponible suffit a priori pour faire tout ce dont vous avez besoin. \n",
    "\n",
    "Notez que vous pourrez ensuite éditer vos propres cartes à l'aide de l'éditeur Tiled, et exporter ces cartes au format <code>.json</code>. \n",
    "\n",
    "\n",
    "**Note**: on fait ici l'hypothèse que toutes les informations (positions des agents et des trésors sont disponibles pour tous les agents, i.e. on ne se pose pas de problème de communication)\n",
    "\n",
    "## Problèmes multiagents de plus courts chemins\n",
    "\n",
    "Sur une carte labyrinthique sont disposés des trésors (des fioles précieuses). \n",
    "\n",
    "### 1. Un agent\n",
    "\n",
    "On s'intéresse tout d'abord à une situation où un seul agent doit trouver un plus court chemin de sa position à un seul trésor. \n",
    " > Vous implémenterez l'algorithme $A^*$ permettant de trouver le plus court chemin sur la grille, en tenant évidemment compte des obstacles. \n",
    "\n",
    "### 2. Plusieurs agents\n",
    "\n",
    "On considère à présent la situation où $n$ agents et $n$ agents sont sur la carte. \n",
    "Chaque agent doit alors calculer l'ensemble des plus courts chemins pour aller, depuis sa position, à tous les objectifs présents sur la carte.\n",
    "\n",
    "En supposant que les agents commencent leur déplacement au même moment, et qu'ils se déplacent à la même vitesse.  Vous étudierez plusieurs méthodes permettant à chaque agent de choisir quel trésor aller chercher, sachant que les autres agents cherchent également à atteindre le trésor le plus proche, etc. Par exemple, si un agent vise l'objectif $o_1$, mais qu'un autre agent est plus proche que lui de $o_1$, il est sand doute préférable de viser un autre objectif...\n",
    "Vous comparerez les méthodes suivantes: \n",
    "* **(1) les enchères répétées**: on imagine ici que les trésors font des enchères en demandant aux agents en combien de temps ils peuvent les atteindre. Le trésor qui obtient la meilleure offre parmi tous les agents choisi cet agent. Puis le processus est répété sans le trésor et l'agent qui ont été sélectionné à cette étape. \n",
    "* **(2) dynamique de meilleure réponse**: chaque agent choisit initialement le trésor qui est le plus proche pour lui. \n",
    "A chaque itération suivante, tous les agents choisissent simultanément la meilleure réponse aux choix des autres agents, en considérant que: si deux agents choisissent le même trésor, ils risquent de se disputer le trésor et d'obtenir un gain nul. La meilleure réponse est donc le trésor le plus proche non sélectionné par un autre agent. Le processus se répète jusqu'à obtenir un état stable, ou à détecter une situation cyclique si cela peut se produire. \n",
    "Note: la dynamique suppose ici que tous les agents jouent simultanément à chaque tour leur meilleure réponse. \n",
    "\n",
    "> Vous coderez et analyserez les méthodes (1) et (2) décrites ci-dessus. En particulier, vous chercherez à évaluer les appariemment obtenus selon les critères vus dans la première partie du cours (efficacité, équité). Il n'est pas demandé de rtaiter plusieurs itérations ici: les agents décident selon la technique choisie, puis ils se déplacent vers leur objectif, et cela peut se terminer. \n",
    "\n",
    "* **Optionnel:**\n",
    "    * **méthode centralisée d'appariemment**: vous pourrez implémenter un algorithme de couplage visant à minimiser la somme globale des longeurs des chemins parcourus par les agents. \n",
    "    * **autres dynamiques**: vous pourrez tester d'autres dynamiques (par exemple meilleures réponses avec un seul agent qui joue sa meileure réponse à chaque itération). \n",
    "\n",
    "\n",
    "### 3. Rencontres entre les agents\n",
    "\n",
    "On suppose maintenant que les agents peuvent se rencontrer lors de leur parcours. \n",
    "La rencontre peut se produire si les deux agents portent des trésors, et qu'ils sont à côté l'un de l'autre. Notons $t_1$ la quantité de trésor de l'agent 1, et $t_2$ la quantité de trésor de l'agent 2. \n",
    "On note $t_j = min(t_1,t_2)$ la quantité de potion qui est mise en jeu à chaque rencontre. \n",
    "A chaque rencontre, les deux agents jouent un jeu pour lequel ils ont deux actions possibles à jouer: \n",
    "* **voler** l'autre agent,  \n",
    "* **discuter** avec lui. \n",
    "\n",
    "Les cas possibles sont les suivants: \n",
    "* si les deux agents tentent de se voler l'un l'autre, ils cassent des fiolent dans la bataille: chaque agent se retrouve avec $t_A - t_j$ et $t_B - t_j$. \n",
    "* s'ils discutent, ils se rendent compte qu'ils peuvent mélanger leur produit afin d'obtenir une potion encore plus magique. Dans ce cas, la valeur de la potion enjeu devient $t_j + 0.5 t_j$. Ils repartent avec $t_A + 0.5t_j$ et $t_B + 0.5t_j$. \n",
    "* Si $A$ vole $B$ vole l'autre, il repart avec $t_A + t_j$ tandis que $B$ aura $t_B - t_j$. \n",
    "\n",
    "Par exemple, supposons que l'agent $A$ qui possède 2 rencontre l'agent $B$ qui possède 4. \n",
    "Il y a donc 2 unités de potion en jeu ici. \n",
    "Si les deux discutent, le fiole de valeur $2$ se transforme en fiole de valeur $3$ pour chacun. $A$ repart donc avec $2+1=3$ et $B$ avec $4+1=5$. \n",
    "Si $A$ vole $B$, il part avec $2+2=4$ tandis $B$ part avec $4-2 = 2$. Si $B$ vole $A$ il part avec $4+2=6$ et $A$ avec $2-2=0$. Enfin, si les deux essayent de voler ils partent avec respectivement $2-2=0$ pour $A$ et $4-2=2$ pour $B$.  \n",
    "\n",
    "\n",
    "\n",
    "Les stratégies des agents sont donc définissables à deux niveaux:\n",
    "* les **stratégies d'interaction**, ie. faut-il voler ou discuter?, qui peuvent être par exemple des séquences prédéfinies, et peuvent dépendre ou non de l'identité de l'agent rencontré. \n",
    "* les **stratégie de parcours**, puisqu'il peut être intéressant dans ce jeu de parfois délaisser les trésors pour rencontrer les autres agents. Rappelez vous cependant qu'un agent sans aucun trésor ne peut pas jouer avec d'autres agents. \n",
    "\n",
    "> La dynamique du jeu devra permettre l'apparition d'un nouveau trésor à chaque fois qu'un est ramassé par les agents.\n",
    "Vous évaluerez les stratégies de votre choix en présentant de manière synthétique vos résultats. \n"
   ]
  },
  {
   "cell_type": "markdown",
   "metadata": {},
   "source": [
    "# Planning des soutenances\n",
    "\n",
    "Dépôt de code le mardi 22/03, 10h44, \n",
    "accompagné d'une fiche **d'une page maximum** résumant les réalisations. \n",
    "\n",
    "### Mardi 22/03 matin\n",
    "\n",
    "* 10h45: AMIOT / MORIN-STENFORT\n",
    "* 11h: COCHARD / NEGRONI\n",
    "* 11h15: WU / LAZOVIC\n",
    "* 11h30: KOSORIC / ADDA\n",
    "* 11h45: SOTO / SHAMS\n",
    "* 12h: AUFFRAY / NOUVEAU\n",
    "* 12h15: ANGUILET SYLLA / KEITA\n",
    "\n",
    "### Mardi 22/03 après-midi\n",
    "\n",
    "* 14h: SHINDO / VILLERABEL\n",
    "* 14h15: MAROTTE / AFFES\n",
    "* 14h30: GASC / SORIVELLE\n",
    "* 14h45: KOEHLER / HATOUM\n",
    "* 15h: LOGLISCI / NASTURAS\n",
    "* 15h15: ROBINI / DE BUFALA\n",
    "* 15h30: SIVARAJAH \n"
   ]
  },
  {
   "cell_type": "code",
   "execution_count": null,
   "metadata": {
    "collapsed": true
   },
   "outputs": [],
   "source": []
  }
 ],
 "metadata": {
  "kernelspec": {
   "display_name": "Python 3",
   "language": "python",
   "name": "python3"
  },
  "language_info": {
   "codemirror_mode": {
    "name": "ipython",
    "version": 3
   },
   "file_extension": ".py",
   "mimetype": "text/x-python",
   "name": "python",
   "nbconvert_exporter": "python",
   "pygments_lexer": "ipython3",
   "version": "3.5.1"
  }
 },
 "nbformat": 4,
 "nbformat_minor": 0
}
