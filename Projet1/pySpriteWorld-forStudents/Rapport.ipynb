{
 "cells": [
  {
   "cell_type": "markdown",
   "metadata": {},
   "source": [
    "**Rapport**"
   ]
  },
  {
   "cell_type": "markdown",
   "metadata": {},
   "source": [
    "Il est difficile d'évaluer la qualité de nos strategies étant donné que le jeu est non déterministe et le score final dépend grandement de la position des fioles. Néenmoins pour avoir une idée de la performance de mes algorithmes je vais utiliser des statistiques."
   ]
  },
  {
   "cell_type": "markdown",
   "metadata": {},
   "source": [
    "Strategie Naive:\n",
    "On suppose quand maximisant le nombre de fiole ramassées on maximise notre score. Cette strategie ne marche pas tres bien du a son heuristique simpliste"
   ]
  },
  {
   "cell_type": "markdown",
   "metadata": {},
   "source": [
    "Strategie ValeurFiole : \n",
    "On fait une légère amélioration de notre strategie précédante en tenant compte de la valeur des fioles pour le choix.\n",
    "Pour le choix de la meilleur fiole on prend celle qui mimise : \n",
    "Valeur - distance"
   ]
  },
  {
   "cell_type": "markdown",
   "metadata": {},
   "source": [
    "Strategie Proximité : Cette fois si, on améliore notre heuristique ce base sur l'idée qu'il vaut mieux aller chercher une fioles à l'intérieur d'un groupe de fiole que nulle part. Pour ce faire, on veut maximiser : Valeur - distance - (la distance vis a vis des autres fioles)."
   ]
  },
  {
   "cell_type": "markdown",
   "metadata": {},
   "source": [
    "Néenmoins cette fonction ne marche pas très bien car elle ne va pas ramasser des fioles à proximités car elle sont trop excentré vis à vis des autres. C'est a dire que notre joueur ne tient pas asser en compte sa position. Pour tenter de résoudre ou du moins réduire ce défaut j'ai introduit un paramètre alpha compris entre 0 et 1 qui réduit la distance vis à vis des autres, pour augmenter ca selection de couleur j'ai introduit un facteur betta compris entre 1 et 2 qui augmente la valeur des fioles"
   ]
  },
  {
   "cell_type": "markdown",
   "metadata": {},
   "source": [
    "Strategie Clustering: Une autre approche pour résoudre le problème précédement évoquée est de construire des groupes de fioles des cluster et de baser notre résonement sur les clusters."
   ]
  }
 ],
 "metadata": {
  "kernelspec": {
   "display_name": "Python 3",
   "language": "python",
   "name": "python3"
  },
  "language_info": {
   "codemirror_mode": {
    "name": "ipython",
    "version": 3
   },
   "file_extension": ".py",
   "mimetype": "text/x-python",
   "name": "python",
   "nbconvert_exporter": "python",
   "pygments_lexer": "ipython3",
   "version": "3.6.0"
  }
 },
 "nbformat": 4,
 "nbformat_minor": 2
}
